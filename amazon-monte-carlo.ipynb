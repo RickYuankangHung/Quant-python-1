{
 "cells": [
  {
   "cell_type": "markdown",
   "metadata": {},
   "source": [
    "# Simulate Amazon stock prices\n",
    "\n",
    "Using historical data from Yahoo for 2014-10-01 to 2016-09-30, we computed historical returnsin a Google sheet, and now we will do a Monte Carlo simulation using the standard deviation of returns."
   ]
  },
  {
   "cell_type": "code",
   "execution_count": 11,
   "metadata": {},
   "outputs": [
    {
     "name": "stdout",
     "output_type": "stream",
     "text": [
      "Populating the interactive namespace from numpy and matplotlib\n"
     ]
    },
    {
     "data": {
      "text/plain": [
       "(array([  0.00000000e+00,   0.00000000e+00,   0.00000000e+00,\n",
       "          0.00000000e+00,   9.62757486e-06,   9.62757486e-06,\n",
       "          4.81378743e-05,   4.81378743e-05,   1.10717111e-04,\n",
       "          1.82923922e-04,   2.79199671e-04,   4.47682231e-04,\n",
       "          6.59488878e-04,   9.14619612e-04,   9.91640211e-04,\n",
       "          1.20826064e-03,   1.49227410e-03,   1.53078440e-03,\n",
       "          2.01697693e-03,   2.19990086e-03,   2.36356963e-03,\n",
       "          2.36838342e-03,   2.34431448e-03,   2.33950069e-03,\n",
       "          2.45021780e-03,   2.32987312e-03,   2.23841115e-03,\n",
       "          1.92551497e-03,   2.00253557e-03,   1.78110135e-03,\n",
       "          1.71370833e-03,   1.65594288e-03,   1.37192942e-03,\n",
       "          1.31897776e-03,   1.22751579e-03,   1.02533672e-03,\n",
       "          7.94274926e-04,   8.03902501e-04,   6.20978578e-04,\n",
       "          4.66937381e-04,   4.47682231e-04,   4.23613294e-04,\n",
       "          3.56220270e-04,   2.50316946e-04,   2.02179072e-04,\n",
       "          2.02179072e-04,   1.68482560e-04,   1.78110135e-04,\n",
       "          9.62757486e-05,   1.01089536e-04]),\n",
       " array([  313.41048794,   334.36646842,   355.32244891,   376.27842939,\n",
       "          397.23440987,   418.19039035,   439.14637083,   460.10235132,\n",
       "          481.0583318 ,   502.01431228,   522.97029276,   543.92627325,\n",
       "          564.88225373,   585.83823421,   606.79421469,   627.75019518,\n",
       "          648.70617566,   669.66215614,   690.61813662,   711.57411711,\n",
       "          732.53009759,   753.48607807,   774.44205855,   795.39803904,\n",
       "          816.35401952,   837.31      ,   858.26598048,   879.22196096,\n",
       "          900.17794145,   921.13392193,   942.08990241,   963.04588289,\n",
       "          984.00186338,  1004.95784386,  1025.91382434,  1046.86980482,\n",
       "         1067.82578531,  1088.78176579,  1109.73774627,  1130.69372675,\n",
       "         1151.64970724,  1172.60568772,  1193.5616682 ,  1214.51764868,\n",
       "         1235.47362917,  1256.42960965,  1277.38559013,  1298.34157061,\n",
       "         1319.29755109,  1340.25353158,  1361.20951206]),\n",
       " <a list of 50 Patch objects>)"
      ]
     },
     "execution_count": 11,
     "metadata": {},
     "output_type": "execute_result"
    },
    {
     "data": {
      "image/png": "[encoded data removed]",
      "text/plain": [
       "<matplotlib.figure.Figure at 0x1182c1ac8>"
      ]
     },
     "metadata": {},
     "output_type": "display_data"
    }
   ],
   "source": [
    "%pylab inline\n",
    "import numpy as np\n",
    "import matplotlib.pyplot as plt\n",
    "\n",
    "current_price = 837.31\n",
    "sigma_one_day = 0.2\n",
    "\n",
    "# for Monte Carlo, we generate random log returns, apply to the \n",
    "# current price to find simulated future prices.\n",
    "num_trials = 10000\n",
    "mean_daily_return = 0\n",
    "simulated_log_returns = np.random.normal(mean_daily_return, \n",
    "                                         sigma_one_day, num_trials)\n",
    "simulated_prices = [current_price * np.exp(ret) \n",
    "                    for ret in simulated_log_returns]\n",
    "num_bins = 50\n",
    "price_sigma = np.std(simulated_prices)\n",
    "plt.hist(simulated_prices, bins = num_bins, normed = True, \n",
    "         align = 'left', rwidth=0.3, \n",
    "         range = (current_price-3*price_sigma, current_price+3*price_sigma))\n",
    "\n"
   ]
  },
  {
   "cell_type": "code",
   "execution_count": null,
   "metadata": {
    "collapsed": true
   },
   "outputs": [],
   "source": []
  }
 ],
 "metadata": {
  "kernelspec": {
   "display_name": "Python 3",
   "language": "python",
   "name": "python3"
  },
  "language_info": {
   "codemirror_mode": {
    "name": "ipython",
    "version": 3
   },
   "file_extension": ".py",
   "mimetype": "text/x-python",
   "name": "python",
   "nbconvert_exporter": "python",
   "pygments_lexer": "ipython3",
   "version": "3.6.1"
  }
 },
 "nbformat": 4,
 "nbformat_minor": 2
}

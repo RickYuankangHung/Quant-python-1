{
 "cells": [
  {
   "cell_type": "markdown",
   "metadata": {},
   "source": [
    "# Python Basics\n",
    "\n",
    "This is a collection of exercises that I wrote as a refresher of key Python features.\n",
    "\n",
    "## Built-in datatypes and variable binding\n",
    "Python uses <a href=“”>late/runtime/dynamic binding</a>. This means that the type of data in a variable is not explicitly identified in a program, like it is in C++ or Java.\""
   ]
  },
  {
   "cell_type": "code",
   "execution_count": 8,
   "metadata": {},
   "outputs": [
    {
     "name": "stdout",
     "output_type": "stream",
     "text": [
      "(2, <type 'int'>)\n",
      "(115792089237316195423570985008687907853269984665640564039457584007913129639936L, <type 'long'>)\n",
      "(1.4142135623730951, <type 'float'>)\n",
      "('U of M', <type 'str'>)\n",
      "(False, <type 'bool'>)\n",
      "(['a', 2, 3.14, True], <type 'list'>)\n"
     ]
    }
   ],
   "source": [
    "x = 2\n",
    "print(x, type(x))\n",
    "x = 2**256\n",
    "print(x, type(x))\n",
    "x = 2**0.5\n",
    "print(x, type(x))\n",
    "x = \"U of M\"\n",
    "print(x, type(x))\n",
    "x = False\n",
    "print(x, type(x))\n",
    "x = ['a', 2, 3.14, not False]\n",
    "print(x, type(x))\n"
   ]
  },
  {
   "cell_type": "markdown",
   "metadata": {},
   "source": [
    "## ints and floats"
   ]
  },
  {
   "cell_type": "code",
   "execution_count": 18,
   "metadata": {},
   "outputs": [
    {
     "name": "stdout",
     "output_type": "stream",
     "text": [
      "7//2 = 3\n",
      "7%2 = 1\n",
      "7.0/2 = 3.5\n"
     ]
    }
   ],
   "source": [
    "print('7//2 = ' + str(7//2))\n",
    "print('7%2 = ' + str(7%2))\n",
    "print('7.0/2 = ' + str(7.0/2))\n"
   ]
  },
  {
   "cell_type": "markdown",
   "metadata": {},
   "source": [
    "### boolean\n",
    "\n",
    "Python's boolean values are True and False. It is case-sensitive: capitalizing the first letter is required. "
   ]
  },
  {
   "cell_type": "code",
   "execution_count": 19,
   "metadata": {},
   "outputs": [
    {
     "name": "stdout",
     "output_type": "stream",
     "text": [
      "a is True\n",
      "b is False\n",
      "a and b is False\n",
      "a or b is True\n"
     ]
    }
   ],
   "source": [
    "a = True\n",
    "b = not a\n",
    "print('a is '+str(a))\n",
    "print('b is '+str(b))\n",
    "print('a and b is '+str(a and b))\n",
    "print('a or b is '+str(a or b))\n"
   ]
  },
  {
   "cell_type": "markdown",
   "metadata": {},
   "source": [
    "### Strings"
   ]
  },
  {
   "cell_type": "code",
   "execution_count": 22,
   "metadata": {},
   "outputs": [
    {
     "name": "stdout",
     "output_type": "stream",
     "text": [
      "Hello, World\n",
      "['Hello,', 'World']\n",
      "Hello, World\n"
     ]
    }
   ],
   "source": [
    "a = 'Hello'\n",
    "b = 'World'\n",
    "c = a + ', ' + b\n",
    "print(c)\n",
    "words = c.split()\n",
    "print(words)\n",
    "print(' '.join(words))"
   ]
  },
  {
   "cell_type": "markdown",
   "metadata": {},
   "source": [
    "### Lists and tuples"
   ]
  },
  {
   "cell_type": "code",
   "execution_count": 38,
   "metadata": {},
   "outputs": [
    {
     "data": {
      "text/plain": [
       "14"
      ]
     },
     "execution_count": 38,
     "metadata": {},
     "output_type": "execute_result"
    }
   ],
   "source": [
    "#shortcut for list of consecutive integers\n",
    "x = range(10,15)\n",
    "x[0:3]\n",
    "x[2:4]\n",
    "x = [10, 11, 12, 13, 14]\n",
    "x[2:]\n",
    "x[:3]\n",
    "x[1::2]\n",
    "x[::-1]\n",
    "x[-1]\n",
    "#slices\n"
   ]
  },
  {
   "cell_type": "code",
   "execution_count": 41,
   "metadata": {},
   "outputs": [
    {
     "data": {
      "text/plain": [
       "[(0, 0, 0),\n",
       " (1, 1, 1),\n",
       " (2, 4, 8),\n",
       " (3, 9, 27),\n",
       " (4, 16, 64),\n",
       " (5, 25, 125),\n",
       " (6, 36, 216),\n",
       " (7, 49, 343),\n",
       " (8, 64, 512),\n",
       " (9, 81, 729)]"
      ]
     },
     "execution_count": 41,
     "metadata": {},
     "output_type": "execute_result"
    }
   ],
   "source": [
    "#List comprehension\n",
    "# create a list of squares for integers 0 to 9\n",
    "[x*x for x in range(10)]\n",
    "# create a list of tuples (x, x*x) for integers 0 to 9\n",
    "[(x, x*x) for x in range(10)]\n",
    "# create a list of tuples (x, x*x, x**3) for integers 0 to 9\n",
    "[(x, x*x, x*x*x) for x in range(10)]\n",
    "\n"
   ]
  },
  {
   "cell_type": "markdown",
   "metadata": {},
   "source": [
    "## Looping (for, while, reduce)"
   ]
  },
  {
   "cell_type": "code",
   "execution_count": 42,
   "metadata": {},
   "outputs": [
    {
     "data": {
      "text/plain": [
       "5050"
      ]
     },
     "execution_count": 42,
     "metadata": {},
     "output_type": "execute_result"
    }
   ],
   "source": [
    "#for\n",
    "#sum integers from 1 to 100\n",
    "sum_ = 0\n",
    "for i in range(1, 101):\n",
    "    sum_ += i\n",
    "sum_\n"
   ]
  },
  {
   "cell_type": "code",
   "execution_count": 47,
   "metadata": {},
   "outputs": [
    {
     "data": {
      "text/plain": [
       "5050"
      ]
     },
     "execution_count": 47,
     "metadata": {},
     "output_type": "execute_result"
    }
   ],
   "source": [
    "#while\n",
    "#sum integers from 1 to 100\n",
    "sum_ = 0\n",
    "i = 1\n",
    "while i < 101:\n",
    "    sum_ += i\n",
    "    i += 1\n",
    "sum_"
   ]
  },
  {
   "cell_type": "code",
   "execution_count": 48,
   "metadata": {},
   "outputs": [
    {
     "data": {
      "text/plain": [
       "5050"
      ]
     },
     "execution_count": 48,
     "metadata": {},
     "output_type": "execute_result"
    }
   ],
   "source": [
    "#concise way to sum integers from 1 to 100 using reduce\n",
    "import functools\n",
    "functools.reduce(lambda i, sum_: i + sum_, range(1, 101))"
   ]
  },
  {
   "cell_type": "code",
   "execution_count": 49,
   "metadata": {},
   "outputs": [
    {
     "data": {
      "text/plain": [
       "5050"
      ]
     },
     "execution_count": 49,
     "metadata": {},
     "output_type": "execute_result"
    }
   ],
   "source": [
    "#use the sum function\n",
    "sum(range(1,101))"
   ]
  },
  {
   "cell_type": "code",
   "execution_count": 52,
   "metadata": {},
   "outputs": [
    {
     "data": {
      "text/plain": [
       "5050.0"
      ]
     },
     "execution_count": 52,
     "metadata": {},
     "output_type": "execute_result"
    }
   ],
   "source": [
    "#preferred way to sum floating point (faster) using fsum\n",
    "import math\n",
    "math.fsum(range(1, 101))"
   ]
  },
  {
   "cell_type": "markdown",
   "metadata": {},
   "source": [
    "### Conditional execution (if)\n"
   ]
  },
  {
   "cell_type": "code",
   "execution_count": 61,
   "metadata": {},
   "outputs": [
    {
     "name": "stdout",
     "output_type": "stream",
     "text": [
      "0.111680557993 is bottom quartile\n"
     ]
    }
   ],
   "source": [
    "#if\n",
    "import random\n",
    "r = random.random()\n",
    "if r < 0.25:\n",
    "    print(str(r) + ' is bottom quartile')\n",
    "elif r < 0.5:\n",
    "    print(str(r) + ' is 2nd quartile')\n",
    "else:\n",
    "    print(str(r) + ' is above median')"
   ]
  },
  {
   "cell_type": "markdown",
   "metadata": {},
   "source": [
    "### Dictionaries"
   ]
  },
  {
   "cell_type": "code",
   "execution_count": 66,
   "metadata": {},
   "outputs": [
    {
     "data": {
      "text/plain": [
       "160"
      ]
     },
     "execution_count": 66,
     "metadata": {},
     "output_type": "execute_result"
    }
   ],
   "source": [
    "prices = {'AMZN': 985, 'AAPL': 160, 'FB': 168}\n",
    "prices['AAPL']"
   ]
  },
  {
   "cell_type": "code",
   "execution_count": 72,
   "metadata": {},
   "outputs": [
    {
     "data": {
      "text/plain": [
       "{'0': 2991,\n",
       " '1': 2969,\n",
       " '2': 3068,\n",
       " '3': 3075,\n",
       " '4': 3040,\n",
       " '5': 3015,\n",
       " '6': 2952,\n",
       " '7': 3052,\n",
       " '8': 2932,\n",
       " '9': 3009}"
      ]
     },
     "execution_count": 72,
     "metadata": {},
     "output_type": "execute_result"
    }
   ],
   "source": [
    "#distribution of characters in a string\n",
    "# s = \"The quick brown fox jumps over the lazy dog.\"\n",
    "s = str(2**100000)\n",
    "charToCountDictionary = {c:0 for c in s}\n",
    "for c in s:\n",
    "    charToCountDictionary[c] += 1\n",
    "charToCountDictionary"
   ]
  },
  {
   "cell_type": "markdown",
   "metadata": {},
   "source": [
    "## Functions"
   ]
  },
  {
   "cell_type": "code",
   "execution_count": 31,
   "metadata": {},
   "outputs": [
    {
     "name": "stdout",
     "output_type": "stream",
     "text": [
      "0! = 1\n",
      "1! = 1\n",
      "2! = 2\n",
      "3! = 6\n",
      "4! = 24\n"
     ]
    }
   ],
   "source": [
    "def factorial(n):\n",
    "    if n == 0:\n",
    "        return 1\n",
    "    \n",
    "for n in range(0,5):\n",
    "    print(str(n) +\"! =\", factorial(n))"
   ]
  },
  {
   "cell_type": "code",
   "execution_count": 34,
   "metadata": {},
   "outputs": [
    {
     "name": "stdout",
     "output_type": "stream",
     "text": [
      "16\n"
     ]
    }
   ],
   "source": [
    "def gcd(a, b):\n",
    "    ...\n",
    "\n",
    "print(gcd(144, 256))"
   ]
  },
  {
   "cell_type": "code",
   "execution_count": 136,
   "metadata": {},
   "outputs": [
    {
     "data": {
      "text/plain": [
       "42.622"
      ]
     },
     "execution_count": 136,
     "metadata": {},
     "output_type": "execute_result"
    }
   ],
   "source": [
    "import random\n",
    "    \n",
    "def simulate_hyper_ant(num_dimensions):\n",
    "    position = [0] * num_dimensions\n",
    "    steps = 0\n",
    "    steps_from_start = 0\n",
    "    while steps_from_start < num_dimensions:\n",
    "        dim_to_change = random.randint(0, num_dimensions - 1)\n",
    "        if position[dim_to_change] == 0:\n",
    "            position[dim_to_change] = 1\n",
    "            steps_from_start += 1\n",
    "        else:\n",
    "            position[dim_to_change] = 0\n",
    "            steps_from_start -= 1\n",
    "        steps += 1\n",
    "    return steps\n",
    "\n",
    "n = 10000\n",
    "dim = 5\n",
    "sum([simulate_hyper_ant(dim) for i in range(n)]) / float(n)    "
   ]
  },
  {
   "cell_type": "code",
   "execution_count": null,
   "metadata": {
    "collapsed": true
   },
   "outputs": [],
   "source": []
  },
  {
   "cell_type": "code",
   "execution_count": null,
   "metadata": {
    "collapsed": true
   },
   "outputs": [],
   "source": []
  }
 ],
 "metadata": {
  "kernelspec": {
   "display_name": "Python 2",
   "language": "python",
   "name": "python2"
  },
  "language_info": {
   "codemirror_mode": {
    "name": "ipython",
    "version": 2
   },
   "file_extension": ".py",
   "mimetype": "text/x-python",
   "name": "python",
   "nbconvert_exporter": "python",
   "pygments_lexer": "ipython2",
   "version": "2.7.13"
  }
 },
 "nbformat": 4,
 "nbformat_minor": 1
}
